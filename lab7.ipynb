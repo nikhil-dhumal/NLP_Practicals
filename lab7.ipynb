{
 "cells": [
  {
   "cell_type": "markdown",
   "id": "b608a46e-eb1b-4bca-b3b2-d157f97a71ab",
   "metadata": {},
   "source": [
    "Name: Nikhil Rajendra Dhumal\n",
    "\n",
    "Roll No.: 21102A0009\n",
    "\n",
    "Class: BE CMPN A"
   ]
  },
  {
   "cell_type": "code",
   "execution_count": 1,
   "id": "dde81a48-6e0b-4528-a947-efac3a9150e7",
   "metadata": {},
   "outputs": [
    {
     "name": "stdout",
     "output_type": "stream",
     "text": [
      "Categories in Brown Corpus:\n",
      "adventure\n",
      "belles_lettres\n",
      "editorial\n",
      "fiction\n",
      "government\n",
      "hobbies\n",
      "humor\n",
      "learned\n",
      "lore\n",
      "mystery\n",
      "news\n",
      "religion\n",
      "reviews\n",
      "romance\n",
      "science_fiction\n",
      "Number of Sentences in Science Fiction Category: 948\n"
     ]
    }
   ],
   "source": [
    "import nltk\n",
    "from nltk.corpus import brown\n",
    "categories = brown.categories()\n",
    "print('Categories in Brown Corpus:')\n",
    "for category in categories:\n",
    " print(category)\n",
    "science_fiction = brown.sents(categories = 'science_fiction')\n",
    "print('Number of Sentences in Science Fiction Category:', len(science_fiction))"
   ]
  }
 ],
 "metadata": {
  "kernelspec": {
   "display_name": "Python 3",
   "language": "python",
   "name": "python3"
  },
  "language_info": {
   "codemirror_mode": {
    "name": "ipython",
    "version": 3
   },
   "file_extension": ".py",
   "mimetype": "text/x-python",
   "name": "python",
   "nbconvert_exporter": "python",
   "pygments_lexer": "ipython3",
   "version": "3.12.4"
  }
 },
 "nbformat": 4,
 "nbformat_minor": 5
}
