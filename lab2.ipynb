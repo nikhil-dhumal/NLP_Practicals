{
  "cells": [
    {
      "cell_type": "code",
      "execution_count": 1,
      "metadata": {
        "id": "jlnBSllalRfc"
      },
      "outputs": [],
      "source": [
        "import nltk\n",
        "from nltk.stem import PorterStemmer, LancasterStemmer, SnowballStemmer\n",
        "from nltk.stem import WordNetLemmatizer\n",
        "from nltk.tokenize import word_tokenize\n",
        "from nltk.corpus import wordnet"
      ]
    },
    {
      "cell_type": "code",
      "execution_count": 2,
      "metadata": {
        "colab": {
          "base_uri": "https://localhost:8080/"
        },
        "id": "Q2pPGZKClbsI",
        "outputId": "f5cdd2a1-af2e-4404-b5e8-bdb99d7e1f10"
      },
      "outputs": [
        {
          "name": "stderr",
          "output_type": "stream",
          "text": [
            "[nltk_data] Downloading package punkt to\n",
            "[nltk_data]     C:\\Users\\ADMIN\\AppData\\Roaming\\nltk_data...\n",
            "[nltk_data]   Package punkt is already up-to-date!\n",
            "[nltk_data] Downloading package wordnet to\n",
            "[nltk_data]     C:\\Users\\ADMIN\\AppData\\Roaming\\nltk_data...\n",
            "[nltk_data]   Package wordnet is already up-to-date!\n"
          ]
        },
        {
          "data": {
            "text/plain": [
              "True"
            ]
          },
          "execution_count": 2,
          "metadata": {},
          "output_type": "execute_result"
        }
      ],
      "source": [
        "# Download required resources\n",
        "nltk.download('punkt')\n",
        "nltk.download('wordnet')"
      ]
    },
    {
      "cell_type": "code",
      "execution_count": 3,
      "metadata": {
        "id": "DGrYe82Slhq3"
      },
      "outputs": [],
      "source": [
        "# Test Corpus\n",
        "corpus = [\n",
        "    \"The cats are playing in the garden.\",\n",
        "    \"The children are playing with their toys.\",\n",
        "    \"The quick brown fox jumps over the lazy dog.\"\n",
        "]"
      ]
    },
    {
      "cell_type": "code",
      "execution_count": 4,
      "metadata": {
        "id": "age-syFEliv-"
      },
      "outputs": [],
      "source": [
        "# Instatiating Objects For Stemmers and Lemmatizers\n",
        "porter_stemmer = PorterStemmer()\n",
        "lancaster_stemmer = LancasterStemmer()\n",
        "snowball_stemmer = SnowballStemmer('english')\n",
        "wordnet_lemmatizer = WordNetLemmatizer()\n"
      ]
    },
    {
      "cell_type": "code",
      "execution_count": 5,
      "metadata": {
        "id": "fhGprLcdlm_F"
      },
      "outputs": [],
      "source": [
        "# Stemming Function\n",
        "def stem_text(text, stemmer):\n",
        "    tokens = word_tokenize(text)\n",
        "    return ' '.join([stemmer.stem(token) for token in tokens])"
      ]
    },
    {
      "cell_type": "code",
      "execution_count": 6,
      "metadata": {
        "id": "6ZbmvPSalsw8"
      },
      "outputs": [],
      "source": [
        "# Lemmatization Function\n",
        "def lemmatize_text(text, lemmatizer):\n",
        "    tokens = word_tokenize(text)\n",
        "    return ' '.join([lemmatizer.lemmatize(token, pos=get_wordnet_pos(token)) for token in tokens])"
      ]
    },
    {
      "cell_type": "code",
      "execution_count": 7,
      "metadata": {
        "id": "Df-3hyJVlxUe"
      },
      "outputs": [],
      "source": [
        "# Utility For Lemmatization Function (Maps POS tags from the Penn Treebank format to WordNet POS tags)\n",
        "def get_wordnet_pos(treebank_tag):\n",
        "    if treebank_tag.startswith('J'):\n",
        "        return wordnet.ADJ\n",
        "    elif treebank_tag.startswith('V'):\n",
        "        return wordnet.VERB\n",
        "    elif treebank_tag.startswith('N'):\n",
        "        return wordnet.NOUN\n",
        "    elif treebank_tag.startswith('R'):\n",
        "        return wordnet.ADV\n",
        "    else:\n",
        "        return wordnet.NOUN"
      ]
    },
    {
      "cell_type": "code",
      "execution_count": 8,
      "metadata": {
        "id": "f4jd_AYxl-SE"
      },
      "outputs": [],
      "source": [
        "# Actual Function For Calling Stemmers and Lemmatizers\n",
        "def process_corpus(corpus):\n",
        "    for sentence in corpus:\n",
        "        print(f\"Original: {sentence}\")\n",
        "\n",
        "        # Stemming\n",
        "        print(f\"Porter Stemmer: {stem_text(sentence, porter_stemmer)}\")\n",
        "        print(f\"Lancaster Stemmer: {stem_text(sentence, lancaster_stemmer)}\")\n",
        "        print(f\"Snowball Stemmer: {stem_text(sentence, snowball_stemmer)}\")\n",
        "\n",
        "        # Lemmatization\n",
        "        print(f\"WordNet Lemmatizer: {lemmatize_text(sentence, wordnet_lemmatizer)}\")\n",
        "        print()"
      ]
    },
    {
      "cell_type": "code",
      "execution_count": 9,
      "metadata": {
        "colab": {
          "base_uri": "https://localhost:8080/"
        },
        "id": "UK77HN0il_w8",
        "outputId": "02347eb9-364c-4a13-963d-1b18a49e89c4"
      },
      "outputs": [
        {
          "name": "stdout",
          "output_type": "stream",
          "text": [
            "Original: The cats are playing in the garden.\n",
            "Porter Stemmer: the cat are play in the garden .\n",
            "Lancaster Stemmer: the cat ar play in the gard .\n",
            "Snowball Stemmer: the cat are play in the garden .\n",
            "WordNet Lemmatizer: The cat are playing in the garden .\n",
            "\n",
            "Original: The children are playing with their toys.\n",
            "Porter Stemmer: the children are play with their toy .\n",
            "Lancaster Stemmer: the childr ar play with their toy .\n",
            "Snowball Stemmer: the children are play with their toy .\n",
            "WordNet Lemmatizer: The child are playing with their toy .\n",
            "\n",
            "Original: The quick brown fox jumps over the lazy dog.\n",
            "Porter Stemmer: the quick brown fox jump over the lazi dog .\n",
            "Lancaster Stemmer: the quick brown fox jump ov the lazy dog .\n",
            "Snowball Stemmer: the quick brown fox jump over the lazi dog .\n",
            "WordNet Lemmatizer: The quick brown fox jump over the lazy dog .\n",
            "\n"
          ]
        }
      ],
      "source": [
        "# Calling The Above Function And Verifying The Results\n",
        "process_corpus(corpus)"
      ]
    }
  ],
  "metadata": {
    "colab": {
      "provenance": []
    },
    "kernelspec": {
      "display_name": "Python 3",
      "name": "python3"
    },
    "language_info": {
      "codemirror_mode": {
        "name": "ipython",
        "version": 3
      },
      "file_extension": ".py",
      "mimetype": "text/x-python",
      "name": "python",
      "nbconvert_exporter": "python",
      "pygments_lexer": "ipython3",
      "version": "3.12.4"
    }
  },
  "nbformat": 4,
  "nbformat_minor": 0
}
