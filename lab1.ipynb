{
 "cells": [
  {
   "cell_type": "code",
   "execution_count": 1,
   "id": "434bbd7a-2461-4a80-8a3e-d3b305b2236c",
   "metadata": {},
   "outputs": [],
   "source": [
    "import re\n",
    "import nltk\n",
    "from nltk.tokenize import word_tokenize, sent_tokenize\n",
    "from nltk.corpus import stopwords\n",
    "from nltk import pos_tag, ne_chunk\n",
    "from nltk.stem import WordNetLemmatizer\n",
    "from autocorrect import Speller"
   ]
  },
  {
   "cell_type": "code",
   "execution_count": 2,
   "id": "55aba535-961a-4a40-bdd2-51f27633c6e2",
   "metadata": {},
   "outputs": [
    {
     "name": "stderr",
     "output_type": "stream",
     "text": [
      "[nltk_data] Downloading package punkt to\n",
      "[nltk_data]     C:\\Users\\ADMIN\\AppData\\Roaming\\nltk_data...\n",
      "[nltk_data]   Package punkt is already up-to-date!\n",
      "[nltk_data] Downloading package stopwords to\n",
      "[nltk_data]     C:\\Users\\ADMIN\\AppData\\Roaming\\nltk_data...\n",
      "[nltk_data]   Package stopwords is already up-to-date!\n",
      "[nltk_data] Downloading package averaged_perceptron_tagger to\n",
      "[nltk_data]     C:\\Users\\ADMIN\\AppData\\Roaming\\nltk_data...\n",
      "[nltk_data]   Package averaged_perceptron_tagger is already up-to-\n",
      "[nltk_data]       date!\n",
      "[nltk_data] Downloading package maxent_ne_chunker to\n",
      "[nltk_data]     C:\\Users\\ADMIN\\AppData\\Roaming\\nltk_data...\n",
      "[nltk_data]   Package maxent_ne_chunker is already up-to-date!\n",
      "[nltk_data] Downloading package words to\n",
      "[nltk_data]     C:\\Users\\ADMIN\\AppData\\Roaming\\nltk_data...\n",
      "[nltk_data]   Package words is already up-to-date!\n",
      "[nltk_data] Downloading package wordnet to\n",
      "[nltk_data]     C:\\Users\\ADMIN\\AppData\\Roaming\\nltk_data...\n",
      "[nltk_data]   Package wordnet is already up-to-date!\n"
     ]
    },
    {
     "data": {
      "text/plain": [
       "True"
      ]
     },
     "execution_count": 2,
     "metadata": {},
     "output_type": "execute_result"
    }
   ],
   "source": [
    "nltk.download('punkt')  # For tokenization\n",
    "nltk.download('stopwords')  # For stop word removal\n",
    "nltk.download('averaged_perceptron_tagger')  # For POS tagging\n",
    "nltk.download('maxent_ne_chunker')  # For Named Entity Recognition\n",
    "nltk.download('words')  # Required for NER\n",
    "nltk.download('wordnet')  # For lemmatization"
   ]
  },
  {
   "cell_type": "code",
   "execution_count": 3,
   "id": "8abe81d5-0904-4dc9-8791-018c18d7ecef",
   "metadata": {},
   "outputs": [],
   "source": [
    "def preprocess_corpus(corpus):\n",
    "    # Sentence segmentation: Split the corpus into individual sentences\n",
    "    sentences = sent_tokenize(corpus)\n",
    "    \n",
    "    processed_sentences = []\n",
    "    \n",
    "    for sentence in sentences:\n",
    "        # Lowercasing: Convert all text to lowercase\n",
    "        sentence = sentence.lower()\n",
    "        \n",
    "        # Number handling: Remove all digits\n",
    "        # Note: This simple approach removes all numbers. Modify as needed.\n",
    "        sentence = re.sub(r'\\d+', '', sentence)\n",
    "        \n",
    "        # Tokenization: Split sentence into individual words\n",
    "        tokens = word_tokenize(sentence)\n",
    "        \n",
    "        # Stop word removal: Remove common words that don't carry much meaning\n",
    "        stop_words = set(stopwords.words('english'))\n",
    "        tokens = [token for token in tokens if token not in stop_words]\n",
    "        \n",
    "        # Spelling correction: Correct misspelled words\n",
    "        # Note: This uses the autocorrect library and may need adjustments\n",
    "        spell = Speller()\n",
    "        tokens = [spell(token) for token in tokens]\n",
    "        \n",
    "        # Text normalization: Lemmatization\n",
    "        # Convert words to their base or dictionary form\n",
    "        lemmatizer = WordNetLemmatizer()\n",
    "        tokens = [lemmatizer.lemmatize(token) for token in tokens]\n",
    "        \n",
    "        # Named Entity Recognition (NER)\n",
    "        # First, perform Part-of-Speech (POS) tagging\n",
    "        pos_tags = pos_tag(tokens)\n",
    "        # Then, identify named entities\n",
    "        named_entities = ne_chunk(pos_tags)\n",
    "        \n",
    "        # Reconstruct the sentence from processed tokens\n",
    "        processed_sentence = ' '.join(tokens)\n",
    "        processed_sentences.append(processed_sentence)\n",
    "    \n",
    "    # Join all processed sentences back into a single text\n",
    "    processed_corpus = ' '.join(processed_sentences)\n",
    "    \n",
    "    # Return both the processed corpus and the named entities\n",
    "    return processed_corpus, named_entities"
   ]
  },
  {
   "cell_type": "code",
   "execution_count": 4,
   "id": "989daa44-0e20-45e3-aab7-fa56dff32387",
   "metadata": {},
   "outputs": [],
   "source": [
    "corpus = \"\"\"\n",
    "Lorem Ipsum is simply dummy text of the printing and typesetting industry. Lorem Ipsum has been the industry's standard dummy text ever since the 1500s, when an unknown printer took a galley of type and scrambled it to make a type specimen book. It has survived not only five centuries, but also the leap into electronic typesetting, remaining essentially unchanged. It was popularised in the 1960s with the release of Letraset sheets containing Lorem Ipsum passages, and more recently with desktop publishing software like Aldus PageMaker including versions of Lorem Ipsum.\n",
    "\"\"\"\n",
    "\n",
    "# Apply preprocessing to the example corpus\n",
    "processed_corpus, named_entities = preprocess_corpus(corpus)"
   ]
  },
  {
   "cell_type": "code",
   "execution_count": 5,
   "id": "9fb8d258-675b-4f99-929d-6da6927c7be5",
   "metadata": {},
   "outputs": [
    {
     "name": "stdout",
     "output_type": "stream",
     "text": [
      "Processed Corpus:\n",
      "lore ipsum simply dummy text printing typesetting industry . lore ipsum industry 's standard dummy text ever since , unknown printer took galley type scrambled make type specimen book . survived five century , also leap electronic typesetting , remaining essentially unchanged . popularised release letraset sheet containing lore ipsum passage , recently desktop publishing software like album pacemaker including version lore ipsum .\n",
      "\n",
      "Named Entities:\n",
      "(S\n",
      "  popularised/JJ\n",
      "  release/NN\n",
      "  letraset/JJ\n",
      "  sheet/NN\n",
      "  containing/VBG\n",
      "  lore/JJR\n",
      "  ipsum/JJ\n",
      "  passage/NN\n",
      "  ,/,\n",
      "  recently/RB\n",
      "  desktop/VBD\n",
      "  publishing/NN\n",
      "  software/NN\n",
      "  like/IN\n",
      "  album/NN\n",
      "  pacemaker/NN\n",
      "  including/VBG\n",
      "  version/NN\n",
      "  lore/RB\n",
      "  ipsum/NN\n",
      "  ./.)\n"
     ]
    }
   ],
   "source": [
    "print(\"Processed Corpus:\")\n",
    "print(processed_corpus)\n",
    "\n",
    "print(\"\\nNamed Entities:\")\n",
    "print(named_entities)\n",
    "\n",
    "# Note: The output will show the processed text with lowercased words,\n",
    "# removed stop words and numbers, corrected spellings, and lemmatized words.\n",
    "# Named entities will be displayed separately in a tree structure"
   ]
  }
 ],
 "metadata": {
  "kernelspec": {
   "display_name": "Python 3 (ipykernel)",
   "language": "python",
   "name": "python3"
  },
  "language_info": {
   "codemirror_mode": {
    "name": "ipython",
    "version": 3
   },
   "file_extension": ".py",
   "mimetype": "text/x-python",
   "name": "python",
   "nbconvert_exporter": "python",
   "pygments_lexer": "ipython3",
   "version": "3.12.4"
  }
 },
 "nbformat": 4,
 "nbformat_minor": 5
}
