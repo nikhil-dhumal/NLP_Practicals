{
  "cells": [
    {
      "cell_type": "markdown",
      "metadata": {
        "id": "ktlKVdg-IpBK"
      },
      "source": [
        "Name: Nikhil Rajendra Dhumal\n",
        "\n",
        "Roll No.: 21102A0009\n",
        "\n",
        "Class: BE CMPN A"
      ]
    },
    {
      "cell_type": "markdown",
      "metadata": {
        "id": "ES8uje3SI2s5"
      },
      "source": [
        "### Imports"
      ]
    },
    {
      "cell_type": "code",
      "execution_count": 1,
      "metadata": {
        "colab": {
          "base_uri": "https://localhost:8080/"
        },
        "id": "KMQxGiigh6rO",
        "outputId": "aaab7aba-20bc-4935-832e-a40d9bbccb99"
      },
      "outputs": [
        {
          "name": "stderr",
          "output_type": "stream",
          "text": [
            "[nltk_data] Downloading package treebank to\n",
            "[nltk_data]     C:\\Users\\ADMIN\\AppData\\Roaming\\nltk_data...\n",
            "[nltk_data]   Unzipping corpora\\treebank.zip.\n"
          ]
        },
        {
          "data": {
            "text/plain": [
              "True"
            ]
          },
          "execution_count": 1,
          "metadata": {},
          "output_type": "execute_result"
        }
      ],
      "source": [
        "import nltk, re, pprint\n",
        "import numpy as np\n",
        "import pandas as pd\n",
        "from sklearn.model_selection import train_test_split\n",
        "from nltk.tokenize import word_tokenize\n",
        "nltk.download('treebank')"
      ]
    },
    {
      "cell_type": "markdown",
      "metadata": {
        "id": "hLMJmUIxIVNt"
      },
      "source": [
        "## Training Dataset (Corpus)"
      ]
    },
    {
      "cell_type": "code",
      "execution_count": 2,
      "metadata": {
        "id": "yq6eXbXtn4cG"
      },
      "outputs": [],
      "source": [
        "# Custom train set\n",
        "train_set = [[('Martin', 'NNP'), (',', ','), ('Justin', 'NNP'), ('can', 'MD'), ('watch', 'VBN'), ('will', 'NNP'), ('.', '.')], [('Spot', 'NNP'), ('will', 'MD'), ('watch', 'VBN'), ('Martin', 'NNP'), ('.', '.')], [('Will', 'MD'), ('Justin', 'NNP'), ('spot', 'VBN'), ('Martin', 'NNP'), ('.', '.')], [('Martin', 'NNP'), ('will', 'MD'), ('pat', 'VBN'), ('Spot', 'NNP'), ('.', '.')]]"
      ]
    },
    {
      "cell_type": "code",
      "execution_count": 3,
      "metadata": {
        "colab": {
          "base_uri": "https://localhost:8080/"
        },
        "id": "E4HlZswImzyE",
        "outputId": "cf008ca7-d3c9-45a0-a4d2-26d5b41bd814"
      },
      "outputs": [
        {
          "data": {
            "text/plain": [
              "22"
            ]
          },
          "execution_count": 3,
          "metadata": {},
          "output_type": "execute_result"
        }
      ],
      "source": [
        "# Getting list of tagged words\n",
        "train_tagged_words = [tup for sent in train_set for tup in sent]\n",
        "len(train_tagged_words)"
      ]
    },
    {
      "cell_type": "code",
      "execution_count": 4,
      "metadata": {
        "colab": {
          "base_uri": "https://localhost:8080/"
        },
        "id": "IQsA7UAsm9Q2",
        "outputId": "3133ddf4-c161-44c0-e8cf-315172f73ef7"
      },
      "outputs": [
        {
          "data": {
            "text/plain": [
              "['Martin', ',', 'Justin', 'can', 'watch', 'will', '.', 'Spot', 'will', 'watch']"
            ]
          },
          "execution_count": 4,
          "metadata": {},
          "output_type": "execute_result"
        }
      ],
      "source": [
        "# tokens\n",
        "tokens = [pair[0] for pair in train_tagged_words]\n",
        "tokens[:10]"
      ]
    },
    {
      "cell_type": "code",
      "execution_count": 5,
      "metadata": {
        "colab": {
          "base_uri": "https://localhost:8080/"
        },
        "id": "VX9sBEKtnHL_",
        "outputId": "463a7664-d558-4b36-fa48-6f1010a97721"
      },
      "outputs": [
        {
          "name": "stdout",
          "output_type": "stream",
          "text": [
            "11\n",
            "{'MD', ',', 'VBN', 'NNP', '.'}\n"
          ]
        }
      ],
      "source": [
        "# vocabulary\n",
        "V = set(tokens)\n",
        "print(len(V))\n",
        "\n",
        "# number of tags\n",
        "T = set([pair[1] for pair in train_tagged_words])\n",
        "print(T)"
      ]
    },
    {
      "cell_type": "code",
      "execution_count": 6,
      "metadata": {
        "id": "84AZLYEWnX8Q"
      },
      "outputs": [],
      "source": [
        "# computing P(w/t) and storing in T x V matrix\n",
        "t = len(T)\n",
        "v = len(V)\n",
        "w_given_t = np.zeros((t, v))"
      ]
    },
    {
      "cell_type": "markdown",
      "metadata": {
        "id": "Hd_iBSZ4nmk6"
      },
      "source": [
        "## Emission Probability"
      ]
    },
    {
      "cell_type": "code",
      "execution_count": 7,
      "metadata": {
        "id": "OCLbd48Gnbg4"
      },
      "outputs": [],
      "source": [
        "# compute word given tag: Emission Probability\n",
        "def word_given_tag(word, tag, train_bag = train_tagged_words):\n",
        "    tag_list = [pair for pair in train_bag if pair[1]==tag]\n",
        "    count_tag = len(tag_list)\n",
        "    w_given_tag_list = [pair[0] for pair in tag_list if pair[0]==word]\n",
        "    count_w_given_tag = len(w_given_tag_list)\n",
        "\n",
        "    return (count_w_given_tag, count_tag)"
      ]
    },
    {
      "cell_type": "markdown",
      "metadata": {
        "id": "c84Hio9pnpyJ"
      },
      "source": [
        "## Transition Probability"
      ]
    },
    {
      "cell_type": "code",
      "execution_count": 8,
      "metadata": {
        "id": "cmB0rAe2nkjq"
      },
      "outputs": [],
      "source": [
        "# compute tag given tag: tag2(t2) given tag1 (t1), i.e. Transition Probability\n",
        "def t2_given_t1(t2, t1, train_bag = train_tagged_words):\n",
        "    tags = [pair[1] for pair in train_bag]\n",
        "    count_t1 = len([t for t in tags if t==t1])\n",
        "    count_t2_t1 = 0\n",
        "    for index in range(len(tags)-1):\n",
        "        if tags[index]==t1 and tags[index+1] == t2:\n",
        "            count_t2_t1 += 1\n",
        "    return (count_t2_t1, count_t1)"
      ]
    },
    {
      "cell_type": "markdown",
      "metadata": {
        "id": "z_9ug2xfn3XD"
      },
      "source": [
        "## Transition Probability Matrix"
      ]
    },
    {
      "cell_type": "code",
      "execution_count": 9,
      "metadata": {
        "colab": {
          "base_uri": "https://localhost:8080/",
          "height": 206
        },
        "id": "MsQoQtHnn2gj",
        "outputId": "8dd94780-7389-4a9e-8ee5-2c8415840dbc"
      },
      "outputs": [
        {
          "data": {
            "text/html": [
              "<div>\n",
              "<style scoped>\n",
              "    .dataframe tbody tr th:only-of-type {\n",
              "        vertical-align: middle;\n",
              "    }\n",
              "\n",
              "    .dataframe tbody tr th {\n",
              "        vertical-align: top;\n",
              "    }\n",
              "\n",
              "    .dataframe thead th {\n",
              "        text-align: right;\n",
              "    }\n",
              "</style>\n",
              "<table border=\"1\" class=\"dataframe\">\n",
              "  <thead>\n",
              "    <tr style=\"text-align: right;\">\n",
              "      <th></th>\n",
              "      <th>MD</th>\n",
              "      <th>,</th>\n",
              "      <th>VBN</th>\n",
              "      <th>NNP</th>\n",
              "      <th>.</th>\n",
              "    </tr>\n",
              "  </thead>\n",
              "  <tbody>\n",
              "    <tr>\n",
              "      <th>MD</th>\n",
              "      <td>0.000000</td>\n",
              "      <td>0.000000</td>\n",
              "      <td>0.750000</td>\n",
              "      <td>0.25</td>\n",
              "      <td>0.000000</td>\n",
              "    </tr>\n",
              "    <tr>\n",
              "      <th>,</th>\n",
              "      <td>0.000000</td>\n",
              "      <td>0.000000</td>\n",
              "      <td>0.000000</td>\n",
              "      <td>1.00</td>\n",
              "      <td>0.000000</td>\n",
              "    </tr>\n",
              "    <tr>\n",
              "      <th>VBN</th>\n",
              "      <td>0.000000</td>\n",
              "      <td>0.000000</td>\n",
              "      <td>0.000000</td>\n",
              "      <td>1.00</td>\n",
              "      <td>0.000000</td>\n",
              "    </tr>\n",
              "    <tr>\n",
              "      <th>NNP</th>\n",
              "      <td>0.333333</td>\n",
              "      <td>0.111111</td>\n",
              "      <td>0.111111</td>\n",
              "      <td>0.00</td>\n",
              "      <td>0.444444</td>\n",
              "    </tr>\n",
              "    <tr>\n",
              "      <th>.</th>\n",
              "      <td>0.250000</td>\n",
              "      <td>0.000000</td>\n",
              "      <td>0.000000</td>\n",
              "      <td>0.50</td>\n",
              "      <td>0.000000</td>\n",
              "    </tr>\n",
              "  </tbody>\n",
              "</table>\n",
              "</div>"
            ],
            "text/plain": [
              "           MD         ,       VBN   NNP         .\n",
              "MD   0.000000  0.000000  0.750000  0.25  0.000000\n",
              ",    0.000000  0.000000  0.000000  1.00  0.000000\n",
              "VBN  0.000000  0.000000  0.000000  1.00  0.000000\n",
              "NNP  0.333333  0.111111  0.111111  0.00  0.444444\n",
              ".    0.250000  0.000000  0.000000  0.50  0.000000"
            ]
          },
          "execution_count": 9,
          "metadata": {},
          "output_type": "execute_result"
        }
      ],
      "source": [
        "tags_matrix = np.zeros((len(T), len(T)), dtype='float32')\n",
        "for i, t1 in enumerate(list(T)):\n",
        "    for j, t2 in enumerate(list(T)):\n",
        "        tags_matrix[i, j] = t2_given_t1(t2, t1)[0]/t2_given_t1(t2, t1)[1]\n",
        "\n",
        "# convert the matrix to a df for better readability\n",
        "tags_df = pd.DataFrame(tags_matrix, columns = list(T), index=list(T))\n",
        "tags_df"
      ]
    },
    {
      "cell_type": "code",
      "execution_count": 10,
      "metadata": {
        "colab": {
          "base_uri": "https://localhost:8080/",
          "height": 241
        },
        "id": "ShCg4AdaozAu",
        "outputId": "0afead57-f57b-40e9-bef0-dbee71f8f613"
      },
      "outputs": [
        {
          "data": {
            "text/plain": [
              "MD     0.25\n",
              ",      0.00\n",
              "VBN    0.00\n",
              "NNP    0.50\n",
              ".      0.00\n",
              "Name: ., dtype: float32"
            ]
          },
          "execution_count": 10,
          "metadata": {},
          "output_type": "execute_result"
        }
      ],
      "source": [
        "tags_df.loc['.', :]"
      ]
    },
    {
      "cell_type": "markdown",
      "metadata": {
        "id": "2mTuWz2ho__X"
      },
      "source": [
        "## POS Tagging on Test Data"
      ]
    },
    {
      "cell_type": "code",
      "execution_count": 11,
      "metadata": {
        "id": "_Z0gQjCbpLRH"
      },
      "outputs": [],
      "source": [
        "def Viterbi(words, train_bag = train_tagged_words):\n",
        "    state = []\n",
        "    T = list(set([pair[1] for pair in train_bag]))\n",
        "\n",
        "    for key, word in enumerate(words):\n",
        "        #initialise list of probability column for a given observation\n",
        "        p = []\n",
        "        for tag in T:\n",
        "            if key == 0:\n",
        "                transition_p = tags_df.loc['.', tag]\n",
        "            else:\n",
        "                transition_p = tags_df.loc[state[-1], tag]\n",
        "\n",
        "            # compute emission and state probabilities\n",
        "            emission_p = word_given_tag(words[key], tag)[0]/word_given_tag(words[key], tag)[1]\n",
        "            state_probability = emission_p * transition_p\n",
        "            p.append(state_probability)\n",
        "\n",
        "        pmax = max(p)\n",
        "        # getting state for which probability is maximum\n",
        "        state_max = T[p.index(pmax)]\n",
        "        state.append(state_max)\n",
        "    return list(zip(words, state))"
      ]
    },
    {
      "cell_type": "code",
      "execution_count": 12,
      "metadata": {
        "colab": {
          "base_uri": "https://localhost:8080/"
        },
        "id": "MEx9AG_Ygusm",
        "outputId": "21c2808c-9315-4b2f-fe51-a57054b27a77"
      },
      "outputs": [
        {
          "name": "stdout",
          "output_type": "stream",
          "text": [
            "[('Jack', 'MD'), ('will', 'NNP'), ('spot', 'VBN'), ('will', 'NNP')]\n",
            "\n",
            "Accuracy :  50.0\n"
          ]
        }
      ],
      "source": [
        "corpus = \"Jack will spot will\"\n",
        "test_tagged_words = corpus.split()\n",
        "\n",
        "# Expected result\n",
        "expected_result = [('Jack', 'NNP'), ('will', 'MD'), ('spot', 'VBN'), ('will', 'NNP')]\n",
        "\n",
        "# list of untagged words\n",
        "tagged_seq = Viterbi(test_tagged_words)\n",
        "\n",
        "# Calculating accuracy\n",
        "check = [i for i, j in zip(tagged_seq, expected_result) if i == j]\n",
        "accuracy = len(check)/len(tagged_seq)\n",
        "\n",
        "print(tagged_seq)\n",
        "print(\"\\nAccuracy : \", accuracy * 100)"
      ]
    }
  ],
  "metadata": {
    "colab": {
      "provenance": []
    },
    "kernelspec": {
      "display_name": "Python 3",
      "name": "python3"
    },
    "language_info": {
      "codemirror_mode": {
        "name": "ipython",
        "version": 3
      },
      "file_extension": ".py",
      "mimetype": "text/x-python",
      "name": "python",
      "nbconvert_exporter": "python",
      "pygments_lexer": "ipython3",
      "version": "3.12.4"
    }
  },
  "nbformat": 4,
  "nbformat_minor": 0
}
