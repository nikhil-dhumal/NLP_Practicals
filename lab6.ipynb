{
 "cells": [
  {
   "cell_type": "markdown",
   "metadata": {
    "id": "3MaFrWK7QKHd"
   },
   "source": [
    "Name: Nikhil Rajendra Dhumal\n",
    "\n",
    "Roll No.: 21102A0009\n",
    "\n",
    "Class: BE CMPN A"
   ]
  },
  {
   "cell_type": "code",
   "execution_count": 1,
   "metadata": {
    "colab": {
     "base_uri": "https://localhost:8080/"
    },
    "id": "FsBMPmb8Nha6",
    "outputId": "36d5117d-3e78-4fd7-910e-c86a75d0513f"
   },
   "outputs": [
    {
     "name": "stderr",
     "output_type": "stream",
     "text": [
      "[nltk_data] Downloading package brown to\n",
      "[nltk_data]     C:\\Users\\ADMIN\\AppData\\Roaming\\nltk_data...\n",
      "[nltk_data]   Package brown is already up-to-date!\n"
     ]
    },
    {
     "data": {
      "text/plain": [
       "True"
      ]
     },
     "execution_count": 1,
     "metadata": {},
     "output_type": "execute_result"
    }
   ],
   "source": [
    "import nltk\n",
    "from nltk.corpus import brown\n",
    "from nltk import FreqDist\n",
    "\n",
    "nltk.download('brown')\n"
   ]
  },
  {
   "cell_type": "code",
   "execution_count": 2,
   "metadata": {
    "colab": {
     "base_uri": "https://localhost:8080/"
    },
    "id": "Gvgsb8doOC4j",
    "outputId": "5c01836b-a95e-483d-a7c0-728f7d216a16"
   },
   "outputs": [
    {
     "name": "stdout",
     "output_type": "stream",
     "text": [
      "RB: 0.0361\n",
      "CS: 0.0186\n",
      "PPS: 0.0232\n",
      "VBD: 0.0367\n",
      "PPL: 0.0018\n",
      "TO: 0.0133\n",
      "BE: 0.0055\n",
      "NN: 0.1065\n",
      "BEDZ: 0.0138\n",
      "JJ: 0.0500\n",
      "VB: 0.0342\n",
      "QL: 0.0073\n",
      "RBR: 0.0015\n",
      "IN: 0.0813\n",
      "PP$: 0.0188\n",
      "NNS: 0.0368\n",
      ",: 0.0547\n",
      ".: 0.0744\n",
      "NN$: 0.0008\n",
      "CC: 0.0287\n",
      "BEZ: 0.0035\n",
      "HVD: 0.0093\n",
      "BEN: 0.0028\n",
      "NP: 0.0267\n",
      "ABN: 0.0045\n",
      "AT: 0.0719\n",
      "AP: 0.0077\n",
      "NN-TL: 0.0075\n",
      "--: 0.0036\n",
      "CD: 0.0052\n",
      "WPS: 0.0019\n",
      "MD: 0.0133\n",
      "EX: 0.0026\n",
      "RP: 0.0069\n",
      "VBG: 0.0140\n",
      "VBN: 0.0220\n",
      "NP-TL: 0.0026\n",
      "(: 0.0006\n",
      "*: 0.0066\n",
      "WRB: 0.0052\n",
      "): 0.0006\n",
      "PPO: 0.0174\n",
      "NP$: 0.0016\n",
      "RBT: 0.0001\n",
      "WDT: 0.0054\n",
      "``: 0.0162\n",
      "'': 0.0162\n",
      "PN: 0.0033\n",
      "DT: 0.0082\n",
      "PPSS: 0.0195\n",
      "HV: 0.0042\n",
      "JJR: 0.0017\n",
      "UH: 0.0017\n",
      "NR: 0.0003\n",
      "BER: 0.0019\n",
      "PPSS+BEM: 0.0008\n",
      "EX+BEZ: 0.0005\n",
      "DTI: 0.0027\n",
      "PPSS+MD: 0.0006\n",
      "VB+PPO: 0.0001\n",
      "PPS+BEZ: 0.0003\n",
      "QLP: 0.0006\n",
      "DO*: 0.0009\n",
      "BEG: 0.0006\n",
      "WPS+MD: 0.0001\n",
      "HVG: 0.0003\n",
      "BEZ*: 0.0005\n",
      "': 0.0008\n",
      "VBZ: 0.0018\n",
      "NPS: 0.0012\n",
      "DTS: 0.0015\n",
      "HVZ: 0.0006\n",
      "OD-TL: 0.0001\n",
      "JJ-TL: 0.0025\n",
      "NNS-TL: 0.0018\n",
      "DO: 0.0018\n",
      "BEM: 0.0005\n",
      "OD: 0.0013\n",
      "PPSS+HV: 0.0007\n",
      ":: 0.0007\n",
      "CD-HL: 0.0003\n",
      ".-HL: 0.0001\n",
      "BED: 0.0041\n",
      "IN-TL: 0.0004\n",
      "ABX: 0.0001\n",
      "FW-NNS: 0.0001\n",
      "FW-NN: 0.0001\n",
      "AT-TL: 0.0003\n",
      "VBN-TL: 0.0002\n",
      "NNS$-TL: 0.0001\n",
      "NN$-TL: 0.0003\n",
      "FW-AT+NN-TL: 0.0001\n",
      "FW-NR-TL: 0.0001\n",
      "FW-JJ-TL: 0.0001\n",
      "PPSS+BER: 0.0004\n",
      "DOD: 0.0026\n",
      "PPS+MD: 0.0001\n",
      "MD*: 0.0012\n",
      "PP$$: 0.0003\n",
      "DOD*: 0.0003\n",
      "HVN: 0.0006\n",
      "BEDZ*: 0.0003\n",
      "WPO: 0.0001\n",
      "JJT: 0.0006\n",
      "CC-TL: 0.0001\n",
      "ABL: 0.0003\n",
      "DOZ: 0.0002\n",
      "DTX: 0.0003\n",
      "WP$: 0.0002\n",
      "NPS$: 0.0001\n",
      "FW-VB: 0.0001\n",
      "AP$: 0.0001\n",
      "WDT+BEZ: 0.0002\n",
      "NN-HL: 0.0001\n",
      "DT+BEZ: 0.0003\n",
      "DOZ*: 0.0002\n",
      "PPSS+HVD: 0.0001\n",
      "BER*: 0.0001\n",
      "FW-CC: 0.0001\n",
      "AP-TL: 0.0002\n",
      "FW-CC-TL: 0.0001\n",
      "FW-NNS-TL: 0.0001\n",
      "FW-IN-TL: 0.0001\n",
      "PPLS: 0.0002\n",
      "NNS$: 0.0001\n",
      "BED*: 0.0001\n",
      "JJS: 0.0001\n"
     ]
    }
   ],
   "source": [
    "tagged_words = brown.tagged_words(categories='science_fiction')\n",
    "\n",
    "tagList = {}\n",
    "\n",
    "for (word, tag) in tagged_words:\n",
    "    if tag not in tagList:\n",
    "        tagList[tag] = 0\n",
    "    tagList[tag] += 1\n",
    "\n",
    "total_tags = sum(tagList.values())\n",
    "\n",
    "for tag, count in tagList.items():\n",
    "    freq = count / total_tags\n",
    "    print(f\"{tag}: {freq:.4f}\")"
   ]
  }
 ],
 "metadata": {
  "accelerator": "GPU",
  "colab": {
   "gpuType": "T4",
   "provenance": []
  },
  "kernelspec": {
   "display_name": "Python 3",
   "language": "python",
   "name": "python3"
  },
  "language_info": {
   "codemirror_mode": {
    "name": "ipython",
    "version": 3
   },
   "file_extension": ".py",
   "mimetype": "text/x-python",
   "name": "python",
   "nbconvert_exporter": "python",
   "pygments_lexer": "ipython3",
   "version": "3.12.4"
  }
 },
 "nbformat": 4,
 "nbformat_minor": 4
}
