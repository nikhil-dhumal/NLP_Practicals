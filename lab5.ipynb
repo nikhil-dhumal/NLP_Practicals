{
 "cells": [
  {
   "cell_type": "markdown",
   "metadata": {
    "id": "U4Nym1nI9ZEK"
   },
   "source": [
    "Name: Nikhil Rajendra Dhumal\n",
    "\n",
    "Roll No.: 21102A0009\n",
    "\n",
    "Class: BE CMPN A"
   ]
  },
  {
   "cell_type": "code",
   "execution_count": 2,
   "metadata": {
    "id": "r6Mw-Zww6jXV"
   },
   "outputs": [],
   "source": [
    "import fitz\n",
    "import spacy\n",
    "import numpy as np\n",
    "from sklearn.feature_extraction.text import TfidfVectorizer\n",
    "from sklearn.metrics.pairwise import cosine_similarity"
   ]
  },
  {
   "cell_type": "code",
   "execution_count": 3,
   "metadata": {
    "id": "a261Qk3x2_hY"
   },
   "outputs": [],
   "source": [
    "nlp = spacy.load(\"en_core_web_sm\")"
   ]
  },
  {
   "cell_type": "code",
   "execution_count": 4,
   "metadata": {
    "id": "XYz683N86spw"
   },
   "outputs": [],
   "source": [
    "skills_list = [\n",
    "    \"JavaScript\", \"Solidity\", \"C++\", \"Python\", \"React\", \"Next.js\", \"Node.js\", \"Prisma\",\n",
    "    \"Ganache\", \"Docker\", \"Kubernetes\", \"AWS\", \"Kafka\", \"Monorepos\", \"Ethereum\",\n",
    "    \"PostgreSQL\", \"MongoDB\", \"SQL\", \"Git\", \"Cloud Computing\", \"DevOps\",\n",
    "    \"Agile Methodology\", \"HTML\", \"CSS\", \"TypeScript\", \"GraphQL\", \"REST APIs\",\n",
    "    \"Jenkins\", \"CircleCI\", \"Terraform\", \"Ansible\", \"Redis\", \"Prometheus\",\n",
    "    \"Grafana\", \"WebSockets\", \"gRPC\", \"WebRTC\", \"Jest\", \"Mocha\", \"Truffle\",\n",
    "    \"Hardhat\", \"Azure\", \"Google Cloud Platform (GCP)\"\n",
    "]"
   ]
  },
  {
   "cell_type": "code",
   "execution_count": 5,
   "metadata": {
    "id": "GvHr2iHV6xFh"
   },
   "outputs": [],
   "source": [
    "def extract_text_from_pdf(pdf_path):\n",
    "    with fitz.open(pdf_path) as pdf_doc:\n",
    "        text = \"\"\n",
    "        for page_num in range(pdf_doc.page_count):\n",
    "            page = pdf_doc.load_page(page_num)\n",
    "            text += page.get_text()\n",
    "    return text"
   ]
  },
  {
   "cell_type": "code",
   "execution_count": 6,
   "metadata": {
    "id": "b7yGuZcx6xuV"
   },
   "outputs": [],
   "source": [
    "def extract_name(doc):\n",
    "    for ent in doc.ents:\n",
    "        if ent.label_ == \"PERSON\":\n",
    "            return ent.text\n",
    "    return \"Name not found\""
   ]
  },
  {
   "cell_type": "code",
   "execution_count": 7,
   "metadata": {
    "id": "CSOwSsdl62fv"
   },
   "outputs": [],
   "source": [
    "def extract_skills(text):\n",
    "    skills_found = []\n",
    "    text_lower = text.lower()\n",
    "    for skill in skills_list:\n",
    "        if skill.lower() in text_lower:\n",
    "            skills_found.append(skill)\n",
    "    return skills_found"
   ]
  },
  {
   "cell_type": "code",
   "execution_count": 8,
   "metadata": {
    "id": "DA0NLC2n68ka"
   },
   "outputs": [],
   "source": [
    "def extract_experience(text):\n",
    "    lines = text.split(\"\\n\")\n",
    "    experience_titles = []\n",
    "    in_section = False\n",
    "\n",
    "    for i, line in enumerate(lines):\n",
    "        line = line.strip()\n",
    "        if any(term in line.lower() for term in [\"projects\", \"courses\", \"work\"]):\n",
    "            in_section = True\n",
    "            continue\n",
    "\n",
    "        if in_section:\n",
    "            if \"|\" in line:\n",
    "                title = line.split(\"|\")[0].strip()\n",
    "                experience_titles.append(title)\n",
    "            elif line.startswith(\"•\"):\n",
    "                title = line[1:].strip()\n",
    "                experience_titles.append(title)\n",
    "\n",
    "    return experience_titles"
   ]
  },
  {
   "cell_type": "code",
   "execution_count": 9,
   "metadata": {
    "id": "oHFvwWjF7Aqv"
   },
   "outputs": [],
   "source": [
    "def extract_resume_info(pdf_path):\n",
    "    resume_text = extract_text_from_pdf(pdf_path)\n",
    "\n",
    "\n",
    "    doc = nlp(resume_text)\n",
    "\n",
    "\n",
    "    name = extract_name(doc)\n",
    "    skills = extract_skills(resume_text)\n",
    "    experience = extract_experience(resume_text)\n",
    "\n",
    "    return {\n",
    "        \"Name\": name,\n",
    "        \"Skills\": skills,\n",
    "        \"Experience\": experience,\n",
    "        \"Resume Text\": resume_text\n",
    "    }"
   ]
  },
  {
   "cell_type": "code",
   "execution_count": 10,
   "metadata": {
    "id": "AJhHOUSI7BXz"
   },
   "outputs": [],
   "source": [
    "job_descriptions = [\n",
    "    {\n",
    "        \"title\": \"Software Developer\",\n",
    "        \"description\": \"We are looking for a skilled software developer with expertise in JavaScript, React, and Node.js.\"\n",
    "    },\n",
    "    {\n",
    "        \"title\": \"Blockchain Engineer\",\n",
    "        \"description\": \"Experience with Ethereum, Solidity, and smart contract development. Knowledge of decentralized applications and blockchain architecture is essential.\"\n",
    "    },\n",
    "    {\n",
    "        \"title\": \"DevOps Engineer\",\n",
    "        \"description\": \"Proficient in Docker, Kubernetes, and cloud platforms like AWS or GCP. Experience with CI/CD pipelines is required.\"\n",
    "    },\n",
    "    {\n",
    "        \"title\": \"Full Stack Developer\",\n",
    "        \"description\": \"Seeking a Full Stack Developer with expertise in JavaScript, React, Next.js, Node.js to design scalable web applications and microservices, ensuring high performance and data consistency.\"\n",
    "    },\n",
    "    {\n",
    "        \"title\": \"Data Scientist\",\n",
    "        \"description\": \"Strong understanding of machine learning models, NLP, and big data analysis. Experience with Python and SQL is preferred.\"\n",
    "    }\n",
    "]\n"
   ]
  },
  {
   "cell_type": "code",
   "execution_count": 11,
   "metadata": {
    "id": "lpi4OnBC7G6A"
   },
   "outputs": [],
   "source": [
    "def vectorize_text(text, job_descriptions):\n",
    "    vectorizer = TfidfVectorizer()\n",
    "    job_texts = [job[\"description\"] for job in job_descriptions]\n",
    "    texts = [text] + job_texts\n",
    "    tfidf_matrix = vectorizer.fit_transform(texts)\n",
    "    return tfidf_matrix"
   ]
  },
  {
   "cell_type": "code",
   "execution_count": 12,
   "metadata": {
    "id": "Fo5yj3BD7JTL"
   },
   "outputs": [],
   "source": [
    "def calculate_similarity(tfidf_matrix):\n",
    "    resume_vector = tfidf_matrix[0]\n",
    "    job_vectors = tfidf_matrix[1:]\n",
    "    similarities = cosine_similarity(resume_vector, job_vectors).flatten()\n",
    "    return similarities"
   ]
  },
  {
   "cell_type": "code",
   "execution_count": 13,
   "metadata": {
    "id": "zfj8jZMT7KeG"
   },
   "outputs": [],
   "source": [
    "def recommend_jobs(resume_text, job_descriptions):\n",
    "    tfidf_matrix = vectorize_text(resume_text, job_descriptions)\n",
    "    similarities = calculate_similarity(tfidf_matrix)\n",
    "    ranked_jobs = sorted(\n",
    "        zip(similarities, job_descriptions),\n",
    "        key=lambda x: x[0],\n",
    "        reverse=True\n",
    "    )\n",
    "    return ranked_jobs"
   ]
  },
  {
   "cell_type": "code",
   "execution_count": 14,
   "metadata": {
    "id": "_TT5FOld7RN0"
   },
   "outputs": [],
   "source": [
    "def extract_resume_and_recommend_jobs(pdf_path, job_descriptions):\n",
    "\n",
    "    resume_info = extract_resume_info(pdf_path)\n",
    "\n",
    "    recommendations = recommend_jobs(resume_info[\"Resume Text\"], job_descriptions)\n",
    "\n",
    "    print(\"Name:\", resume_info[\"Name\"])\n",
    "    print(\"\\nSkills:\", \", \".join(resume_info[\"Skills\"]))\n",
    "    print(\"\\nExperience:\\n\", \"\\n\".join(resume_info[\"Experience\"]))\n",
    "\n",
    "\n",
    "    print(\"\\nRecommended Jobs :\")\n",
    "    for score, job in recommendations:\n",
    "        print(f\"{job['title']}: Similarity Score = {score:.2f}\")\n",
    "\n",
    "    return recommendations"
   ]
  },
  {
   "cell_type": "code",
   "execution_count": 16,
   "metadata": {
    "colab": {
     "base_uri": "https://localhost:8080/",
     "height": 0
    },
    "id": "n8A9O7i47bAf",
    "outputId": "9dfc296d-ebea-4310-ba47-87280ca03d07"
   },
   "outputs": [
    {
     "name": "stdout",
     "output_type": "stream",
     "text": [
      "Name: Nikhil Dhumal\n",
      "\n",
      "Skills: JavaScript, Python, React, Node.js, MongoDB, Git\n",
      "\n",
      "Experience:\n",
      " \n",
      "\n",
      "\n",
      "\n",
      "\n",
      "\n",
      "\n",
      "\n",
      "GitHub: https://github.com/nikhil-dhumal/Movies-Website\n",
      "\n",
      "\n",
      "\n",
      "\n",
      "\n",
      "Search Usernames: Easily find and add friends by their usernames.\n",
      "GitHub: https://github.com/nikhil-dhumal/Chat-Harbour\n",
      "\n",
      "\n",
      "\n",
      "B.E. Computer Engineering\n",
      "\n",
      "XII (HSC)\n",
      "\n",
      "X (SSC)\n",
      "\n",
      "Recommended Jobs :\n",
      "Full Stack Developer: Similarity Score = 0.25\n",
      "Software Developer: Similarity Score = 0.18\n",
      "Data Scientist: Similarity Score = 0.08\n",
      "Blockchain Engineer: Similarity Score = 0.06\n",
      "DevOps Engineer: Similarity Score = 0.05\n"
     ]
    }
   ],
   "source": [
    "pdf_path = \"data/Nikhil_Dhumal_MERN_Web_Dev.pdf\"\n",
    "resume_info = extract_resume_and_recommend_jobs(pdf_path, job_descriptions)"
   ]
  }
 ],
 "metadata": {
  "accelerator": "GPU",
  "colab": {
   "gpuType": "T4",
   "provenance": []
  },
  "kernelspec": {
   "display_name": "Python 3",
   "language": "python",
   "name": "python3"
  },
  "language_info": {
   "codemirror_mode": {
    "name": "ipython",
    "version": 3
   },
   "file_extension": ".py",
   "mimetype": "text/x-python",
   "name": "python",
   "nbconvert_exporter": "python",
   "pygments_lexer": "ipython3",
   "version": "3.12.4"
  }
 },
 "nbformat": 4,
 "nbformat_minor": 4
}
