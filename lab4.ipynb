{
 "cells": [
  {
   "cell_type": "markdown",
   "metadata": {
    "id": "g1fBfiL_TiMX"
   },
   "source": [
    "Name: Nikhil Rajendra Dhumal\n",
    "\n",
    "Roll No.: 21102A0009\n",
    "\n",
    "Class: BE CMPN A"
   ]
  },
  {
   "cell_type": "code",
   "execution_count": 1,
   "metadata": {
    "id": "PvGXskcT2roM"
   },
   "outputs": [],
   "source": [
    "import fitz\n",
    "import spacy\n",
    "\n",
    "# Load spaCy model for NLP\n",
    "nlp = spacy.load(\"en_core_web_sm\")"
   ]
  },
  {
   "cell_type": "code",
   "execution_count": 2,
   "metadata": {
    "id": "E2E6lgeR2rk9"
   },
   "outputs": [],
   "source": [
    "# List of relevant technical skills\n",
    "skills_list = [\n",
    "    \"JavaScript\", \"Solidity\", \"C++\", \"Python\", \"React\", \"Next.js\", \"Node.js\", \"Prisma\",\n",
    "    \"Ganache\", \"Docker\", \"Kubernetes\", \"AWS\", \"Kafka\", \"Monorepos\", \"Ethereum\",\n",
    "    \"PostgreSQL\", \"MongoDB\", \"SQL\", \"Git\", \"Cloud Computing\", \"DevOps\",\n",
    "    \"Agile Methodology\", \"HTML\", \"CSS\", \"TypeScript\", \"GraphQL\", \"REST APIs\",\n",
    "    \"Jenkins\", \"CircleCI\", \"Terraform\", \"Ansible\", \"Redis\", \"Prometheus\",\n",
    "    \"Grafana\", \"WebSockets\", \"gRPC\", \"WebRTC\", \"Jest\", \"Mocha\", \"Truffle\",\n",
    "    \"Hardhat\", \"Azure\", \"Google Cloud Platform (GCP)\"\n",
    "]"
   ]
  },
  {
   "cell_type": "code",
   "execution_count": 3,
   "metadata": {
    "id": "JyTuYPmv2rgp"
   },
   "outputs": [],
   "source": [
    "# Function to extract text from PDF\n",
    "def extract_text_from_pdf(pdf_path):\n",
    "    with fitz.open(pdf_path) as pdf_doc:\n",
    "        text = \"\"\n",
    "        for page_num in range(pdf_doc.page_count):\n",
    "            page = pdf_doc.load_page(page_num)\n",
    "            text += page.get_text()\n",
    "    return text"
   ]
  },
  {
   "cell_type": "code",
   "execution_count": 4,
   "metadata": {
    "id": "fw5D-Jt42rdb"
   },
   "outputs": [],
   "source": [
    "# Function to extract the name\n",
    "def extract_name(doc):\n",
    "    for ent in doc.ents:\n",
    "        if ent.label_ == \"PERSON\":\n",
    "            return ent.text\n",
    "    return \"Name not found\""
   ]
  },
  {
   "cell_type": "code",
   "execution_count": 5,
   "metadata": {
    "id": "QKhZCSlg2rWx"
   },
   "outputs": [],
   "source": [
    "# Function to extract skills from text\n",
    "def extract_skills(text):\n",
    "    skills_found = []\n",
    "    text_lower = text.lower()\n",
    "    for skill in skills_list:\n",
    "        if skill.lower() in text_lower:\n",
    "            skills_found.append(skill)\n",
    "    return skills_found"
   ]
  },
  {
   "cell_type": "code",
   "execution_count": 6,
   "metadata": {
    "id": "Kc2HfNxM2rT-"
   },
   "outputs": [],
   "source": [
    "# Function to extract experience\n",
    "def extract_experience(text):\n",
    "    lines = text.split(\"\\n\")\n",
    "    experience_titles = []\n",
    "    in_section = False\n",
    "\n",
    "    for i, line in enumerate(lines):\n",
    "        line = line.strip()\n",
    "        if any(term in line.lower() for term in [\"projects\", \"courses\", \"work\"]):\n",
    "            in_section = True\n",
    "            continue\n",
    "\n",
    "        if in_section:\n",
    "            if \"|\" in line:  # Experience usually have the format: TITLE | Description\n",
    "                title = line.split(\"|\")[0].strip()\n",
    "                experience_titles.append(title)\n",
    "            elif line.startswith(\"•\"):  # Bullet point\n",
    "                title = line[1:].strip()  # Remove bullet point\n",
    "                experience_titles.append(title)\n",
    "\n",
    "    return experience_titles\n"
   ]
  },
  {
   "cell_type": "code",
   "execution_count": 7,
   "metadata": {
    "id": "MN5ttQYp2q01"
   },
   "outputs": [],
   "source": [
    "def extract_resume_info(pdf_path):\n",
    "    # Extract text from PDF\n",
    "    resume_text = extract_text_from_pdf(pdf_path)\n",
    "\n",
    "    # Process text with spaCy NLP\n",
    "    doc = nlp(resume_text)\n",
    "\n",
    "    # Extract relevant info\n",
    "    name = extract_name(doc)\n",
    "    skills = extract_skills(resume_text)\n",
    "    experience = extract_experience(resume_text)\n",
    "\n",
    "    return {\n",
    "        \"Name\": name,\n",
    "        \"Skills\": skills,\n",
    "        \"Experience\": experience\n",
    "    }"
   ]
  },
  {
   "cell_type": "code",
   "execution_count": 8,
   "metadata": {
    "colab": {
     "base_uri": "https://localhost:8080/"
    },
    "id": "HnmNspMA3Tai",
    "outputId": "8e1b6606-4038-4f09-ca37-99852423aedd"
   },
   "outputs": [
    {
     "name": "stdout",
     "output_type": "stream",
     "text": [
      "Name: Nikhil Dhumal\n",
      "\n",
      "\n",
      "\n",
      "Skills: JavaScript, Python, React, Node.js, MongoDB, Git\n",
      "\n",
      "\n",
      "\n",
      "Experience:\n",
      " \n",
      "\n",
      "\n",
      "\n",
      "\n",
      "\n",
      "\n",
      "\n",
      "GitHub: https://github.com/nikhil-dhumal/Movies-Website\n",
      "\n",
      "\n",
      "\n",
      "\n",
      "\n",
      "Search Usernames: Easily find and add friends by their usernames.\n",
      "GitHub: https://github.com/nikhil-dhumal/Chat-Harbour\n",
      "\n",
      "\n",
      "\n",
      "B.E. Computer Engineering\n",
      "\n",
      "XII (HSC)\n",
      "\n",
      "X (SSC)\n"
     ]
    }
   ],
   "source": [
    "pdf_path = \"data/Nikhil_Dhumal_MERN_Web_Dev.pdf\"\n",
    "resume_info = extract_resume_info(pdf_path)\n",
    "print(\"Name:\", resume_info[\"Name\"])\n",
    "print(\"\\n\\n\")\n",
    "print(\"Skills:\", \", \".join(resume_info[\"Skills\"]))\n",
    "print(\"\\n\\n\")\n",
    "print(\"Experience:\\n\", \"\\n\".join(resume_info[\"Experience\"]))\n"
   ]
  }
 ],
 "metadata": {
  "colab": {
   "provenance": []
  },
  "kernelspec": {
   "display_name": "Python 3",
   "language": "python",
   "name": "python3"
  },
  "language_info": {
   "codemirror_mode": {
    "name": "ipython",
    "version": 3
   },
   "file_extension": ".py",
   "mimetype": "text/x-python",
   "name": "python",
   "nbconvert_exporter": "python",
   "pygments_lexer": "ipython3",
   "version": "3.12.4"
  }
 },
 "nbformat": 4,
 "nbformat_minor": 4
}
